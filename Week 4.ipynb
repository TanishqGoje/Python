{
 "cells": [
  {
   "cell_type": "markdown",
   "id": "651399de",
   "metadata": {},
   "source": [
    "Write a function called is_sorted that takes a list as a parameter and returns True if the list is sorted in ascending order and False otherwise"
   ]
  },
  {
   "cell_type": "code",
   "execution_count": null,
   "id": "11eddec5",
   "metadata": {},
   "outputs": [
    {
     "name": "stdout",
     "output_type": "stream",
     "text": [
      "Entered List:  ['1', '2', '7', '3', '6']\n"
     ]
    },
    {
     "data": {
      "text/plain": [
       "False"
      ]
     },
     "execution_count": 1,
     "metadata": {},
     "output_type": "execute_result"
    }
   ],
   "source": [
    "def is_sorted(list):\n",
    "    x = list[:]\n",
    "    x.sort()\n",
    "    if list == x:\n",
    "        return True\n",
    "    else:\n",
    "        return False\n",
    "\n",
    "\n",
    "n = int(input(\"Enter number of elements in the list: \"))\n",
    "list = []\n",
    "for i in range(n):\n",
    "    l = input(f\"Enter list element {i + 1}:\")\n",
    "    list.append(l)\n",
    "print(\"Entered List: \", list)\n",
    "is_sorted(list)"
   ]
  },
  {
   "cell_type": "markdown",
   "id": "3aa3782a",
   "metadata": {},
   "source": [
    "Write a function called has_duplicates that takes a list and element that appears more than once. It should not modify or delete the delete the duplicates\n",
    "\n",
    "\n",
    "\n",
    "\n"
   ]
  },
  {
   "cell_type": "code",
   "execution_count": 2,
   "id": "aae3f999",
   "metadata": {},
   "outputs": [
    {
     "name": "stdout",
     "output_type": "stream",
     "text": [
      "Entered List:  [3, 4, 7, 67, 897, 43, 56, 38]\n",
      "Duplicate Elements: True\n"
     ]
    }
   ],
   "source": [
    "def has_duplicate(list):\n",
    "    for i in range(len(list)):\n",
    "        for j in range(len(list) - 1):\n",
    "            if list[i] == list[j + 1]:\n",
    "                return True\n",
    "    return False\n",
    "\n",
    "\n",
    "n = int(input(\"Enter number of elements: \"))\n",
    "list = []\n",
    "for i in range(n):\n",
    "    l = int(input(f\"Enter list element {i + 1}:\"))\n",
    "    list.append(l)\n",
    "print(\"Entered List: \", list)\n",
    "print(\"Duplicate Elements:\", has_duplicate(list))"
   ]
  },
  {
   "cell_type": "markdown",
   "id": "9d833fc2",
   "metadata": {},
   "source": [
    "Write a function called remove_duplicates takes a list and makes a new list with only the unique elements from the original. Hint: they don’t have to be in order"
   ]
  },
  {
   "cell_type": "code",
   "execution_count": null,
   "id": "b221146e",
   "metadata": {},
   "outputs": [
    {
     "name": "stdout",
     "output_type": "stream",
     "text": [
      "1 2 3 4 5 Entered List:  [1, 2, 3, 4, 5]\n",
      "Unique elements from entered list:  [1, 2, 3, 4, 5]\n"
     ]
    }
   ],
   "source": [
    "def remove_duplicates(list):\n",
    "    LS = sorted(list)\n",
    "    res = []\n",
    "    prev = None\n",
    "    for el in LS:\n",
    "        if el != prev:\n",
    "            res.append(el)\n",
    "            prev = el\n",
    "    return res\n",
    "\n",
    "\n",
    "n = int(input(\"Enter number of elements\"))\n",
    "list = []\n",
    "for i in range(n):\n",
    "    print(i + 1, end=\" \")\n",
    "    x = int(input(\" Element\"))\n",
    "    list.append(x)\n",
    "print(\"Entered List: \", list)\n",
    "print(\"Unique elements from entered list: \", remove_duplicates(list))"
   ]
  },
  {
   "cell_type": "markdown",
   "id": "ec411f1a",
   "metadata": {},
   "source": [
    "The wordlist I provided, words.txt, doesn’t contain single letter words. So you might want to add“I”, “a”, and the empty string."
   ]
  },
  {
   "cell_type": "code",
   "execution_count": null,
   "id": "3d876358",
   "metadata": {},
   "outputs": [],
   "source": [
    "with open('words.txt', 'w') as f:\n",
    "    letters = ['I', 'a', \"\"]\n",
    "    for l in letters:\n",
    "        f.write(l)\n",
    "        f.write('\\n')"
   ]
  },
  {
   "cell_type": "markdown",
   "id": "c631cc89",
   "metadata": {},
   "source": [
    "Write a python code to read dictionary values from the user. Construct a function to invert its content ie keys should be values and values should be keys"
   ]
  },
  {
   "cell_type": "code",
   "execution_count": null,
   "id": "139e5280",
   "metadata": {},
   "outputs": [],
   "source": [
    "file_path = r\"C:\\Users\\admin\\Documents\\247R1A6623\"\n",
    "\n",
    "required_words = {\"I\", \"a\", \"\"}\n",
    "\n",
    "with open(file_path, \"r\") as f:\n",
    "    existing_words = {line.strip() for line in f}\n",
    "\n",
    "missing_words = required_words - existing_words\n",
    "\n",
    "if missing_words:\n",
    "    with open(file_path, \"a\") as f:\n",
    "        for word in missing_words:\n",
    "            f.write(word + \"\\n\")"
   ]
  },
  {
   "cell_type": "markdown",
   "id": "a66ef178",
   "metadata": {},
   "source": [
    "Write a python code to read dictionary values from the user content. i.e., keys should be values and values should be keys"
   ]
  },
  {
   "cell_type": "code",
   "execution_count": null,
   "id": "7187f1fa",
   "metadata": {},
   "outputs": [],
   "source": [
    "my_dict={} \n",
    "print(\"How many elements ?\", end=' ')\n",
    "n=int(input()) \n",
    "for i in range(n):     \n",
    "    print(\"Enter key:\",end=' ')     \n",
    "    k=input()     \n",
    "    print(\"Enter its value: \",end=' ')     \n",
    "    v=int(input())     \n",
    "    my_dict.update({k:v}) \n",
    "print(\"The dictionary is: \",my_dict)   \n",
    "new_dict = dict([(value, key) for key, value in my_dict.items()])    \n",
    "\n",
    "print (\"Original dictionary is : \") \n",
    "print(my_dict)   \n",
    "\n",
    "print (\"Dictionary Values :  \")  \n",
    "print(\"keys: values\")\n",
    "\n",
    "for i in my_dict:     \n",
    "    print(i, \" :  \", my_dict[i])  \n",
    "\n",
    "print()   \n",
    "\n",
    "print (\"Dictionary after swapping is :  \")  \n",
    "print(\"keys: values\") \n",
    "for i in new_dict:     \n",
    "    print(i, \" :  \", new_dict[i])\n"
   ]
  },
  {
   "cell_type": "markdown",
   "id": "44082837",
   "metadata": {},
   "source": [
    "Add a comma between the characters"
   ]
  },
  {
   "cell_type": "code",
   "execution_count": null,
   "id": "d42b6153",
   "metadata": {},
   "outputs": [
    {
     "name": "stdout",
     "output_type": "stream",
     "text": [
      "A,p,p,l,e\n"
     ]
    }
   ],
   "source": [
    "x = 'Apple'\n",
    "y = ','.join(x)\n",
    "print(y)"
   ]
  },
  {
   "cell_type": "code",
   "execution_count": null,
   "id": "d6a3bc86",
   "metadata": {},
   "outputs": [],
   "source": [
    "x = \"Apple\"\n",
    "y = \" \"\n",
    "for i in x:\n",
    "    y += i + \",\" * 1\n",
    "y = y.strip()\n",
    "print(repr(y))"
   ]
  },
  {
   "cell_type": "markdown",
   "id": "00595c51",
   "metadata": {},
   "source": [
    "Remove the given word in all the places in a string\n",
    "\n",
    "Write a program that input a string and ask user to delete a given word from a string."
   ]
  },
  {
   "cell_type": "code",
   "execution_count": null,
   "id": "8aab4b80",
   "metadata": {},
   "outputs": [
    {
     "name": "stdout",
     "output_type": "stream",
     "text": [
      "String after deletion:  Hey Hello\n"
     ]
    }
   ],
   "source": [
    "text = input(\"Enter a string: \")\n",
    "words = text.split()\n",
    "\n",
    "data = input(\"Enter a word to delete: \")\n",
    "status = False\n",
    "\n",
    "for word in words:\n",
    "    if word == data:\n",
    "        words.remove(word)\n",
    "        status = True\n",
    "\n",
    "if status:\n",
    "    text = \" \".join(words)\n",
    "    print(\"String after deletion: \", text)\n",
    "else:\n",
    "    print(\"Word not present in string.\")"
   ]
  },
  {
   "cell_type": "markdown",
   "id": "aa3b94ff",
   "metadata": {},
   "source": [
    "Write a function that takes a sentence as a input parameter and relplaces the first letter of every word with the corresponding upper case letter and the rest of the letters in lower case"
   ]
  },
  {
   "cell_type": "code",
   "execution_count": null,
   "id": "0b93d146",
   "metadata": {},
   "outputs": [
    {
     "name": "stdout",
     "output_type": "stream",
     "text": [
      "Dame\n"
     ]
    }
   ],
   "source": [
    "import string\n",
    "import io\n",
    "\n",
    "\n",
    "def capitalize_words(s):\n",
    "    s = io.StringIO(s)\n",
    "    result = \" \"\n",
    "    for word in s.read().split():\n",
    "        word = word.lower()\n",
    "        word = word.capitalize()\n",
    "        result = word + \" \"\n",
    "        return result.strip()\n",
    "\n",
    "\n",
    "if __name__ == \"__main__\":\n",
    "    s1 = input(\"Enter a string: \")\n",
    "    print(capitalize_words(s1))"
   ]
  },
  {
   "cell_type": "markdown",
   "id": "6e0188a1",
   "metadata": {},
   "source": [
    "Writes a recursive function that generates all binary strings"
   ]
  },
  {
   "cell_type": "code",
   "execution_count": null,
   "id": "30c7d535",
   "metadata": {},
   "outputs": [
    {
     "name": "stdout",
     "output_type": "stream",
     "text": [
      "1 2 3 4 5 Elements:  [1, 2, 3, 4, 5]\n",
      "True\n"
     ]
    }
   ],
   "source": [
    "def printTheArray(arr, n):\n",
    "\n",
    "    for i in range(0, n):\n",
    "        print(arr[i], end=\" \")\n",
    "\n",
    "    print()\n",
    "\n",
    "\n",
    "def generateAllBinaryStrings(n, arr, i):\n",
    "    if i == n:\n",
    "        printTheArray(arr, n)\n",
    "    return\n",
    "\n",
    "\n",
    "arr[i] = 0\n",
    "generateAllBinaryStrings(n, arr, i + 1)\n",
    "arr[i] = 1\n",
    "generateAllBinaryStrings(n, arr, i + 1)\n",
    "\n",
    "if __name__ == \"__main__\":\n",
    "    n = 4\n",
    "    arr = [None] * n  # Print all binary strings\n",
    "    generateAllBinaryStrings(n, arr, 0)"
   ]
  }
 ],
 "metadata": {
  "kernelspec": {
   "display_name": "base",
   "language": "python",
   "name": "python3"
  },
  "language_info": {
   "codemirror_mode": {
    "name": "ipython",
    "version": 3
   },
   "file_extension": ".py",
   "mimetype": "text/x-python",
   "name": "python",
   "nbconvert_exporter": "python",
   "pygments_lexer": "ipython3",
   "version": "3.13.5"
  }
 },
 "nbformat": 4,
 "nbformat_minor": 5
}
