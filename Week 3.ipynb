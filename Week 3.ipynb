{
 "cells": [
  {
   "cell_type": "markdown",
   "id": "01f50b99",
   "metadata": {},
   "source": [
    "**Write a program to convert a list and tuple into arrays**"
   ]
  },
  {
   "cell_type": "markdown",
   "id": "b103a003",
   "metadata": {},
   "source": [
    "Method 1"
   ]
  },
  {
   "cell_type": "code",
   "execution_count": 36,
   "id": "55ae0a5a",
   "metadata": {},
   "outputs": [],
   "source": [
    "import numpy as np\n",
    "\n",
    "# Declare List Elements\n",
    "my_list = []"
   ]
  },
  {
   "cell_type": "markdown",
   "id": "2381ddbe",
   "metadata": {},
   "source": [
    "**Flatten Method**"
   ]
  },
  {
   "cell_type": "code",
   "execution_count": 37,
   "id": "b391b4f3",
   "metadata": {},
   "outputs": [
    {
     "name": "stdout",
     "output_type": "stream",
     "text": [
      "[1 4 7 2 5 8 3 6 9]\n",
      "[1 2 3 4 5 6 7 8 9]\n",
      "[1 4 7 2 5 8 3 6 9]\n",
      "[1 4 7 2 5 8 3 6 9]\n"
     ]
    }
   ],
   "source": [
    "import numpy as np\n",
    "\n",
    "a = np.array([[1, 4, 7], [2, 5, 8], [3, 6, 9]])\n",
    "b = a.flatten()  # b = a.flatten('C')\n",
    "print(b)\n",
    "c = a.flatten(\"F\")  # F is column wise\n",
    "print(c)\n",
    "d = a.flatten(\"A\")\n",
    "print(d)\n",
    "e = a.flatten(\"K\")\n",
    "print(e)"
   ]
  },
  {
   "cell_type": "markdown",
   "id": "6faf810f",
   "metadata": {},
   "source": [
    "**Array of Zeroes**"
   ]
  },
  {
   "cell_type": "code",
   "execution_count": 38,
   "id": "e13dd5a9",
   "metadata": {},
   "outputs": [
    {
     "data": {
      "text/plain": [
       "array([[0., 0., 0.],\n",
       "       [0., 0., 0.]])"
      ]
     },
     "execution_count": 38,
     "metadata": {},
     "output_type": "execute_result"
    }
   ],
   "source": [
    "import numpy as np\n",
    "\n",
    "np.zeros(5)\n",
    "np.zeros((2, 3))"
   ]
  },
  {
   "cell_type": "markdown",
   "id": "45e486b9",
   "metadata": {},
   "source": [
    "**Array of Ones**"
   ]
  },
  {
   "cell_type": "code",
   "execution_count": 39,
   "id": "bf265ccd",
   "metadata": {},
   "outputs": [
    {
     "data": {
      "text/plain": [
       "array([1, 1, 1, 1, 1])"
      ]
     },
     "execution_count": 39,
     "metadata": {},
     "output_type": "execute_result"
    }
   ],
   "source": [
    "import numpy as np\n",
    "\n",
    "np.ones(5, dtype=np.int32)"
   ]
  },
  {
   "cell_type": "markdown",
   "id": "b406fc5e",
   "metadata": {},
   "source": [
    "**Array of random numbers**"
   ]
  },
  {
   "cell_type": "code",
   "execution_count": 40,
   "id": "d1028ec9",
   "metadata": {},
   "outputs": [
    {
     "data": {
      "text/plain": [
       "array([[0.51630785, 0.47659755, 0.47182476],\n",
       "       [0.89798271, 0.23194195, 0.61405087]])"
      ]
     },
     "execution_count": 40,
     "metadata": {},
     "output_type": "execute_result"
    }
   ],
   "source": [
    "import numpy as np\n",
    "\n",
    "np.random.rand(2, 3)"
   ]
  },
  {
   "cell_type": "markdown",
   "id": "63d5a340",
   "metadata": {},
   "source": [
    "**Addition of two matrices**"
   ]
  },
  {
   "cell_type": "code",
   "execution_count": 41,
   "id": "83f7baba",
   "metadata": {},
   "outputs": [
    {
     "name": "stdout",
     "output_type": "stream",
     "text": [
      "[[11  1]\n",
      " [ 8 12]]\n"
     ]
    }
   ],
   "source": [
    "import numpy as np\n",
    "\n",
    "A = np.array([[2, 4], [5, 6]])\n",
    "B = np.array([[9, -3], [3, 6]])\n",
    "C = A + B\n",
    "print(C)"
   ]
  },
  {
   "cell_type": "markdown",
   "id": "62496cbb",
   "metadata": {},
   "source": [
    "**Matrix Multiplication**"
   ]
  },
  {
   "cell_type": "code",
   "execution_count": 42,
   "id": "f0fd7db0",
   "metadata": {},
   "outputs": [
    {
     "name": "stdout",
     "output_type": "stream",
     "text": [
      "[[ 36 -12]\n",
      " [ -1   2]]\n"
     ]
    }
   ],
   "source": [
    "import numpy as np\n",
    "\n",
    "A = np.array([[3, 6, 7], [5, -3, 0]])\n",
    "B = np.array([[1, 1], [2, 1], [3, -3]])\n",
    "C = A.dot(B)\n",
    "print(C)"
   ]
  },
  {
   "cell_type": "markdown",
   "id": "c04cdffa",
   "metadata": {},
   "source": [
    "**Transpose Matrix**"
   ]
  },
  {
   "cell_type": "code",
   "execution_count": 43,
   "id": "ead6a5f3",
   "metadata": {},
   "outputs": [
    {
     "name": "stdout",
     "output_type": "stream",
     "text": [
      "[[ 1  2  3]\n",
      " [ 1  1 -3]]\n"
     ]
    }
   ],
   "source": [
    "import numpy as np\n",
    "\n",
    "A = np.array([[1, 1], [2, 1], [3, -3]])\n",
    "print(A.transpose())"
   ]
  },
  {
   "cell_type": "markdown",
   "id": "9877ec09",
   "metadata": {},
   "source": [
    "**Strings and Characters**"
   ]
  },
  {
   "cell_type": "code",
   "execution_count": 44,
   "id": "5205544e",
   "metadata": {},
   "outputs": [
    {
     "name": "stdout",
     "output_type": "stream",
     "text": [
      "Hello Python\n",
      "Hello Pyhton\n",
      "Hello World\n"
     ]
    }
   ],
   "source": [
    "str1 = \"Hello Python\"\n",
    "print(str1)\n",
    "str2 = \"Hello Pyhton\"\n",
    "print(str2)\n",
    "str3 = \"\"\"Hello World\"\"\"\n",
    "print(str3)"
   ]
  },
  {
   "cell_type": "markdown",
   "id": "70a467b1",
   "metadata": {},
   "source": [
    "**Operation on Strings**"
   ]
  },
  {
   "cell_type": "code",
   "execution_count": 45,
   "id": "38e0bf69",
   "metadata": {},
   "outputs": [
    {
     "name": "stdout",
     "output_type": "stream",
     "text": [
      "str1 + str 2 =  HelloWorld!\n",
      "str1 * 3 =  HelloHelloHello\n"
     ]
    }
   ],
   "source": [
    "str1 = \"Hello\"\n",
    "str2 = \"World!\"\n",
    "print(\"str1 + str 2 = \", str1 + str2)\n",
    "print(\"str1 * 3 = \", str1 * 3)"
   ]
  },
  {
   "cell_type": "markdown",
   "id": "b6b479aa",
   "metadata": {},
   "source": [
    "**String Length**"
   ]
  },
  {
   "cell_type": "code",
   "execution_count": 46,
   "id": "d8512a41",
   "metadata": {},
   "outputs": [
    {
     "name": "stdout",
     "output_type": "stream",
     "text": [
      "12\n"
     ]
    }
   ],
   "source": [
    "a = \"Hello World!\"\n",
    "print(len(a))"
   ]
  },
  {
   "cell_type": "markdown",
   "id": "3f3e6fbd",
   "metadata": {},
   "source": [
    "**Looping**"
   ]
  },
  {
   "cell_type": "code",
   "execution_count": 47,
   "id": "43175b13",
   "metadata": {},
   "outputs": [
    {
     "name": "stdout",
     "output_type": "stream",
     "text": [
      "b\n",
      "a\n",
      "n\n",
      "a\n",
      "n\n",
      "a\n"
     ]
    }
   ],
   "source": [
    "for x in \"banana\":\n",
    "    print(x)"
   ]
  },
  {
   "cell_type": "markdown",
   "id": "d357b4f6",
   "metadata": {},
   "source": [
    "**String Membership Test**"
   ]
  },
  {
   "cell_type": "code",
   "execution_count": 48,
   "id": "cca8651e",
   "metadata": {},
   "outputs": [
    {
     "name": "stdout",
     "output_type": "stream",
     "text": [
      "True\n",
      "False\n"
     ]
    }
   ],
   "source": [
    "print(\"a\" in \"program\")\n",
    "print(\"at\" not in \"battle\")"
   ]
  },
  {
   "cell_type": "markdown",
   "id": "7c2574d8",
   "metadata": {},
   "source": [
    "**String Indexing and Splitting**"
   ]
  },
  {
   "cell_type": "code",
   "execution_count": 49,
   "id": "fffb172e",
   "metadata": {},
   "outputs": [
    {
     "name": "stdout",
     "output_type": "stream",
     "text": [
      "Hello\n",
      "Hello\n",
      "ll\n",
      "olleH\n"
     ]
    }
   ],
   "source": [
    "str = \"Hello\"\n",
    "print(str[:5])\n",
    "print(str[:])\n",
    "print(str[-3:-1])\n",
    "print(str[::-1])"
   ]
  },
  {
   "cell_type": "markdown",
   "id": "609bc28f",
   "metadata": {},
   "source": [
    "**Working with Characters**"
   ]
  },
  {
   "cell_type": "code",
   "execution_count": 50,
   "id": "d38742ef",
   "metadata": {},
   "outputs": [
    {
     "data": {
      "text/plain": [
       "True"
      ]
     },
     "execution_count": 50,
     "metadata": {},
     "output_type": "execute_result"
    }
   ],
   "source": [
    "\"abc123\".isalnum()"
   ]
  },
  {
   "cell_type": "code",
   "execution_count": 51,
   "id": "9ad64b03",
   "metadata": {},
   "outputs": [
    {
     "data": {
      "text/plain": [
       "False"
      ]
     },
     "execution_count": 51,
     "metadata": {},
     "output_type": "execute_result"
    }
   ],
   "source": [
    "\"ab&123\".isalnum()"
   ]
  },
  {
   "cell_type": "code",
   "execution_count": 52,
   "id": "f563b7b6",
   "metadata": {},
   "outputs": [
    {
     "data": {
      "text/plain": [
       "False"
      ]
     },
     "execution_count": 52,
     "metadata": {},
     "output_type": "execute_result"
    }
   ],
   "source": [
    "\"\".isalnum()"
   ]
  },
  {
   "cell_type": "code",
   "execution_count": 53,
   "id": "c8b7bc06",
   "metadata": {},
   "outputs": [
    {
     "data": {
      "text/plain": [
       "True"
      ]
     },
     "execution_count": 53,
     "metadata": {},
     "output_type": "execute_result"
    }
   ],
   "source": [
    "'dssdf'.isalpha()"
   ]
  },
  {
   "cell_type": "code",
   "execution_count": 54,
   "id": "86853ec7",
   "metadata": {},
   "outputs": [
    {
     "data": {
      "text/plain": [
       "True"
      ]
     },
     "execution_count": 54,
     "metadata": {},
     "output_type": "execute_result"
    }
   ],
   "source": [
    "'123'.isdigit()"
   ]
  },
  {
   "cell_type": "code",
   "execution_count": 55,
   "id": "ebe80c16",
   "metadata": {},
   "outputs": [
    {
     "data": {
      "text/plain": [
       "False"
      ]
     },
     "execution_count": 55,
     "metadata": {},
     "output_type": "execute_result"
    }
   ],
   "source": [
    "'123abc'.isdigit()"
   ]
  },
  {
   "cell_type": "code",
   "execution_count": 56,
   "id": "e558546d",
   "metadata": {},
   "outputs": [
    {
     "data": {
      "text/plain": [
       "True"
      ]
     },
     "execution_count": 56,
     "metadata": {},
     "output_type": "execute_result"
    }
   ],
   "source": [
    "'abc'.islower()"
   ]
  },
  {
   "cell_type": "code",
   "execution_count": 57,
   "id": "02bc987b",
   "metadata": {},
   "outputs": [
    {
     "data": {
      "text/plain": [
       "True"
      ]
     },
     "execution_count": 57,
     "metadata": {},
     "output_type": "execute_result"
    }
   ],
   "source": [
    "'abc1$d'.islower()"
   ]
  },
  {
   "cell_type": "code",
   "execution_count": 58,
   "id": "f09e3704",
   "metadata": {},
   "outputs": [
    {
     "data": {
      "text/plain": [
       "False"
      ]
     },
     "execution_count": 58,
     "metadata": {},
     "output_type": "execute_result"
    }
   ],
   "source": [
    "'Abc1$D'.islower()"
   ]
  },
  {
   "cell_type": "code",
   "execution_count": 59,
   "id": "4afab068",
   "metadata": {},
   "outputs": [
    {
     "data": {
      "text/plain": [
       "True"
      ]
     },
     "execution_count": 59,
     "metadata": {},
     "output_type": "execute_result"
    }
   ],
   "source": [
    "'ABC'.isupper()"
   ]
  },
  {
   "cell_type": "code",
   "execution_count": 60,
   "id": "b94617a3",
   "metadata": {},
   "outputs": [
    {
     "data": {
      "text/plain": [
       "False"
      ]
     },
     "execution_count": 60,
     "metadata": {},
     "output_type": "execute_result"
    }
   ],
   "source": [
    "'Abc1$D'.isupper()"
   ]
  },
  {
   "cell_type": "code",
   "execution_count": 65,
   "id": "7797d3e2",
   "metadata": {},
   "outputs": [
    {
     "name": "stdout",
     "output_type": "stream",
     "text": [
      "['', ' ', 'a', 'b', 'c', 'd', 'e', 'f', 'g', 'h']\n",
      "['h', 'g', 'f', 'e', 'd', 'c', 'b', 'a', ' ', '']\n"
     ]
    }
   ],
   "source": [
    "a = ('b', 'g', 'a', 'd', 'f', 'c', 'h', 'e', '', ' ')\n",
    "x = sorted(a)\n",
    "print(x)\n",
    "x = sorted(a, reverse=True)\n",
    "print(x)"
   ]
  },
  {
   "cell_type": "code",
   "execution_count": 67,
   "id": "6aa9ae72",
   "metadata": {},
   "outputs": [
    {
     "name": "stdout",
     "output_type": "stream",
     "text": [
      "[' ', ' ', ' ', 'I', 'e', 'i', 'k', 'l', 'o', 'o', 'r', 's', 't', 't']\n"
     ]
    }
   ],
   "source": [
    "str = 'I like to sort'\n",
    "x = sorted(str)\n",
    "print(x)"
   ]
  },
  {
   "cell_type": "markdown",
   "id": "f135e95c",
   "metadata": {},
   "source": [
    "**Split Method**"
   ]
  },
  {
   "cell_type": "code",
   "execution_count": 70,
   "id": "474c5a8e",
   "metadata": {},
   "outputs": [
    {
     "name": "stdout",
     "output_type": "stream",
     "text": [
      "['i', 'like', 'to', 'sort']\n",
      "['i', 'like', 'sort', 'to']\n",
      "ilikesortto\n",
      "i like to sort\n"
     ]
    }
   ],
   "source": [
    "s = 'i like to sort'\n",
    "print(s.split())\n",
    "print(sorted(s.split()))\n",
    "g = ''.join(s)\n",
    "h = sorted(s.split())\n",
    "g2 = ''.join(h)\n",
    "print(g2)\n",
    "print(g)"
   ]
  },
  {
   "cell_type": "code",
   "execution_count": 71,
   "id": "53187200",
   "metadata": {},
   "outputs": [
    {
     "name": "stdout",
     "output_type": "stream",
     "text": [
      "7\n"
     ]
    }
   ],
   "source": [
    "text = 'Hello, Welcome to my world.'\n",
    "x = text.find(\"Welcome\")\n",
    "print(x)"
   ]
  },
  {
   "cell_type": "code",
   "execution_count": 72,
   "id": "603e9d8c",
   "metadata": {},
   "outputs": [
    {
     "name": "stdout",
     "output_type": "stream",
     "text": [
      "8\n"
     ]
    }
   ],
   "source": [
    "text = 'Hello, Welcome to my world.'\n",
    "x = text.find(\"e\", 5, 10)\n",
    "print(x)"
   ]
  }
 ],
 "metadata": {
  "kernelspec": {
   "display_name": "base",
   "language": "python",
   "name": "python3"
  },
  "language_info": {
   "codemirror_mode": {
    "name": "ipython",
    "version": 3
   },
   "file_extension": ".py",
   "mimetype": "text/x-python",
   "name": "python",
   "nbconvert_exporter": "python",
   "pygments_lexer": "ipython3",
   "version": "3.10.9"
  }
 },
 "nbformat": 4,
 "nbformat_minor": 5
}
