{
 "cells": [
  {
   "cell_type": "code",
   "execution_count": 15,
   "id": "02284e84-84bb-4ada-b205-0e8d3e6562ce",
   "metadata": {},
   "outputs": [
    {
     "name": "stdout",
     "output_type": "stream",
     "text": [
      "this->lol<-is a seperator\n"
     ]
    }
   ],
   "source": [
    "print('this','is a seperator',sep='->lol<-')"
   ]
  },
  {
   "cell_type": "code",
   "execution_count": 16,
   "id": "0e26af1a-f4a8-4871-8e3e-bfe6f814714a",
   "metadata": {},
   "outputs": [
    {
     "name": "stdout",
     "output_type": "stream",
     "text": [
      "it seperates 2 strings\n"
     ]
    }
   ],
   "source": [
    "print('it seperates','strings',sep=' 2 ')"
   ]
  },
  {
   "cell_type": "code",
   "execution_count": 17,
   "id": "be8e8a3e-2a3e-4930-a432-7fb870039234",
   "metadata": {},
   "outputs": [
    {
     "name": "stdout",
     "output_type": "stream",
     "text": [
      "wsg world\n"
     ]
    }
   ],
   "source": [
    "print('wsg world')"
   ]
  },
  {
   "cell_type": "code",
   "execution_count": 18,
   "id": "59d599a6-bc7c-4db0-b422-0846228aa019",
   "metadata": {},
   "outputs": [
    {
     "name": "stdout",
     "output_type": "stream",
     "text": [
      "My name is Tanishq\n",
      "My branch is CSM\n",
      "My age is 18\n"
     ]
    }
   ],
   "source": [
    "name='Tanishq'\n",
    "branch='CSM'\n",
    "age=69-51\n",
    "print('My name is',name)\n",
    "print('My branch is',branch)\n",
    "print('My age is',age)"
   ]
  },
  {
   "cell_type": "code",
   "execution_count": 19,
   "id": "6ac962cf-70ba-4d97-952d-3e51430c8db8",
   "metadata": {},
   "outputs": [
    {
     "data": {
      "text/plain": [
       "5"
      ]
     },
     "execution_count": 19,
     "metadata": {},
     "output_type": "execute_result"
    }
   ],
   "source": [
    "5+5-5"
   ]
  },
  {
   "cell_type": "code",
   "execution_count": 20,
   "id": "aa5e5c3b-f754-49ef-b044-8bfdce35be5d",
   "metadata": {},
   "outputs": [
    {
     "data": {
      "text/plain": [
       "6460160"
      ]
     },
     "execution_count": 20,
     "metadata": {},
     "output_type": "execute_result"
    }
   ],
   "source": [
    "475+6457574+6435-4324\n",
    "\n"
   ]
  },
  {
   "cell_type": "code",
   "execution_count": 21,
   "id": "1bf17277-ebfb-4a51-8309-e3954fcb648f",
   "metadata": {},
   "outputs": [
    {
     "data": {
      "text/plain": [
       "7916839442.0"
      ]
     },
     "execution_count": 21,
     "metadata": {},
     "output_type": "execute_result"
    }
   ],
   "source": [
    "3526432*6735/3-398"
   ]
  },
  {
   "cell_type": "code",
   "execution_count": 22,
   "id": "7ea27607-af4b-4099-8cb5-0f288c21464a",
   "metadata": {},
   "outputs": [
    {
     "data": {
      "text/plain": [
       "256"
      ]
     },
     "execution_count": 22,
     "metadata": {},
     "output_type": "execute_result"
    }
   ],
   "source": [
    "5643//22 #single slash gives float result whereas double slash gives int result\n"
   ]
  },
  {
   "cell_type": "code",
   "execution_count": 23,
   "id": "8d2247db-9f85-4d0b-a357-e46f7b522ca6",
   "metadata": {},
   "outputs": [
    {
     "data": {
      "text/plain": [
       "2951205625"
      ]
     },
     "execution_count": 23,
     "metadata": {},
     "output_type": "execute_result"
    }
   ],
   "source": [
    "54325**2 #exponentiation"
   ]
  },
  {
   "cell_type": "code",
   "execution_count": 24,
   "id": "2e14a318-725b-4a22-a9dc-dd2fb215352b",
   "metadata": {},
   "outputs": [
    {
     "data": {
      "text/plain": [
       "32"
      ]
     },
     "execution_count": 24,
     "metadata": {},
     "output_type": "execute_result"
    }
   ],
   "source": [
    "2**5\n"
   ]
  },
  {
   "cell_type": "code",
   "execution_count": 25,
   "id": "10fab1ee-6487-4267-8690-b3e316d02d0d",
   "metadata": {},
   "outputs": [
    {
     "name": "stdout",
     "output_type": "stream",
     "text": [
      "187758.60917999997\n",
      "<class 'float'>\n",
      "<class 'int'>\n",
      "<class 'str'>\n"
     ]
    }
   ],
   "source": [
    "X=543.67\n",
    "Y=345.354\n",
    "z=X*Y\n",
    "lol='lol'\n",
    "num=6\n",
    "print(z)\n",
    "print(type(z))\n",
    "print(type(num))\n",
    "print(type(lol))"
   ]
  },
  {
   "cell_type": "code",
   "execution_count": 26,
   "id": "5d4f4234-c4ab-45ec-a052-bb6d0cfcaa31",
   "metadata": {},
   "outputs": [
    {
     "name": "stdout",
     "output_type": "stream",
     "text": [
      "<class 'complex'>\n"
     ]
    }
   ],
   "source": [
    "com=356+124j\n",
    "print(type(com))"
   ]
  },
  {
   "cell_type": "code",
   "execution_count": 27,
   "id": "f6c3828f-0dec-4ff7-b03c-b77ca1503fb5",
   "metadata": {},
   "outputs": [
    {
     "name": "stdout",
     "output_type": "stream",
     "text": [
      "707555****\n"
     ]
    }
   ],
   "source": [
    "my_number = 7075554543  # underscore is used instead of spaces for identifiers\n",
    "# Hide the last 4 digits (4543) under stars\n",
    "hidden_number = str(my_number)[:-4] + '****'\n",
    "print(hidden_number)"
   ]
  },
  {
   "cell_type": "code",
   "execution_count": 28,
   "id": "79f37658-4b51-4565-b889-14f7668c5e03",
   "metadata": {},
   "outputs": [
    {
     "ename": "SyntaxError",
     "evalue": "invalid syntax (1084784703.py, line 1)",
     "output_type": "error",
     "traceback": [
      "\u001b[1;36m  Cell \u001b[1;32mIn[28], line 1\u001b[1;36m\u001b[0m\n\u001b[1;33m    my number=9-9090 #dont use spaces\u001b[0m\n\u001b[1;37m       ^\u001b[0m\n\u001b[1;31mSyntaxError\u001b[0m\u001b[1;31m:\u001b[0m invalid syntax\n"
     ]
    }
   ],
   "source": [
    "my number=9-9090 #dont use spaces\n",
    "print(my number)"
   ]
  },
  {
   "cell_type": "code",
   "execution_count": null,
   "id": "50bab67a-c0ea-4a31-be7b-0dc1ee68856b",
   "metadata": {},
   "outputs": [],
   "source": [
    "_canuputunderscorehere=1 #identifiers can be started using underscores\n",
    "print(_canuputunderscorehere)"
   ]
  },
  {
   "cell_type": "code",
   "execution_count": null,
   "id": "89e2603f-5220-451e-a75b-783bc7a9cf8f",
   "metadata": {},
   "outputs": [],
   "source": [
    "1canustartwnum=0 #but shouldnt start w number\n",
    "print(1canustartwnum)"
   ]
  },
  {
   "cell_type": "code",
   "execution_count": null,
   "id": "74ba7bcd-b15d-43f9-aa1d-54a0595f7640",
   "metadata": {},
   "outputs": [],
   "source": [
    "cani$use! = 0 #cannot use special characters ex:& !\n",
    "print(cani$use!)"
   ]
  },
  {
   "cell_type": "code",
   "execution_count": 1,
   "id": "28374934-970f-4ce2-91c1-706de58f5180",
   "metadata": {},
   "outputs": [
    {
     "ename": "SyntaxError",
     "evalue": "invalid syntax (2907786825.py, line 1)",
     "output_type": "error",
     "traceback": [
      "\u001b[1;36m  Cell \u001b[1;32mIn[1], line 1\u001b[1;36m\u001b[0m\n\u001b[1;33m    continue = 1 #dont use keywords\u001b[0m\n\u001b[1;37m             ^\u001b[0m\n\u001b[1;31mSyntaxError\u001b[0m\u001b[1;31m:\u001b[0m invalid syntax\n"
     ]
    }
   ],
   "source": [
    "continue = 1 #dont use keywords\n",
    "print(continue)"
   ]
  },
  {
   "cell_type": "code",
   "execution_count": 2,
   "id": "10c43b18-8892-4372-a4da-3626c595ee6c",
   "metadata": {},
   "outputs": [
    {
     "name": "stdout",
     "output_type": "stream",
     "text": [
      "Tanishq\n",
      "nigga\n"
     ]
    }
   ],
   "source": [
    "MyName = 'Tanishq' #identifiers are case sensitive\n",
    "myname = 'nigga'\n",
    "print(MyName)\n",
    "print(myname)"
   ]
  },
  {
   "cell_type": "code",
   "execution_count": 3,
   "id": "0902c70a-86ea-4cfa-b123-6e876390c4d1",
   "metadata": {},
   "outputs": [
    {
     "name": "stdout",
     "output_type": "stream",
     "text": [
      "43\n",
      "43\n",
      "43\n"
     ]
    }
   ],
   "source": [
    "F=D=J=43 #multiple assignment\n",
    "print(F)\n",
    "print(D)\n",
    "print(J)"
   ]
  },
  {
   "cell_type": "code",
   "execution_count": 4,
   "id": "308aee63-067c-4a5f-87a8-047932d8397d",
   "metadata": {},
   "outputs": [
    {
     "name": "stdout",
     "output_type": "stream",
     "text": [
      "69\n",
      "420\n",
      "720\n"
     ]
    }
   ],
   "source": [
    "# Multiple assignment: assign values to several variables in one line\n",
    "dam, dang, dayum = 69, 420, 720\n",
    "print(dam)\n",
    "print(dang)\n",
    "print(dayum)"
   ]
  },
  {
   "cell_type": "code",
   "execution_count": 5,
   "id": "b53190a7-7dce-44bb-a40d-ab779f194ec1",
   "metadata": {},
   "outputs": [
    {
     "name": "stdout",
     "output_type": "stream",
     "text": [
      "30\n",
      "40\n",
      "70\n"
     ]
    }
   ],
   "source": [
    "# Multiple assignment: assign values to several variables in one line\n",
    "a, b, c = 30, 40, 70\n",
    "print(a)\n",
    "print(b)\n",
    "print(c)"
   ]
  },
  {
   "cell_type": "code",
   "execution_count": 6,
   "id": "3764d432-59ec-4826-880a-d6c7ccd8d3df",
   "metadata": {},
   "outputs": [
    {
     "name": "stdout",
     "output_type": "stream",
     "text": [
      "meyou\n",
      "memememeyouyou\n"
     ]
    }
   ],
   "source": [
    "ppl1 = 'me'\n",
    "ppl2 = 'you'\n",
    "\n",
    "# String concatenation: combines two strings\n",
    "print(ppl1 + ppl2)  # Output: 'meyou'\n",
    "\n",
    "# String repetition: repeats the string specified number of times\n",
    "print(ppl1 * 4 + ppl2 * 2)  # Output: 'memememeyouyou'"
   ]
  },
  {
   "cell_type": "code",
   "execution_count": 7,
   "id": "f31efb8b",
   "metadata": {},
   "outputs": [
    {
     "name": "stdout",
     "output_type": "stream",
     "text": [
      "43\n"
     ]
    }
   ],
   "source": [
    "def your_demise(): # This defines a function named your_demise\n",
    "    x = 43 # x is a local variable, only accessible inside this function\n",
    "    print(x)\n",
    "your_demise() # Calls the function your_demise"
   ]
  },
  {
   "cell_type": "code",
   "execution_count": 8,
   "id": "2bd321e0",
   "metadata": {},
   "outputs": [
    {
     "name": "stdout",
     "output_type": "stream",
     "text": [
      "Result: 504\n"
     ]
    }
   ],
   "source": [
    "def simple_calc(x, y, operation):\n",
    "\tif operation == '+':\n",
    "\t\treturn x + y\n",
    "\telif operation == '-':\n",
    "\t\treturn x - y\n",
    "\telif operation == '*':\n",
    "\t\treturn x * y\n",
    "\telif operation == '/':\n",
    "\t\treturn x / y\n",
    "\telse:\n",
    "\t\treturn \"Invalid operation\"\n",
    "\n",
    "x = int(input(\"Enter first number: \"))\n",
    "y = int(input(\"Enter second number: \"))\n",
    "operation = input(\"Enter operation (+, -, *, /): \")\n",
    "\n",
    "result = simple_calc(x, y, operation)\n",
    "print(\"Result:\", result)"
   ]
  }
 ],
 "metadata": {
  "kernelspec": {
   "display_name": "base",
   "language": "python",
   "name": "python3"
  },
  "language_info": {
   "codemirror_mode": {
    "name": "ipython",
    "version": 3
   },
   "file_extension": ".py",
   "mimetype": "text/x-python",
   "name": "python",
   "nbconvert_exporter": "python",
   "pygments_lexer": "ipython3",
   "version": "3.13.5"
  }
 },
 "nbformat": 4,
 "nbformat_minor": 5
}
