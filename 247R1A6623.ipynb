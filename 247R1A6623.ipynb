{
 "cells": [
  {
   "cell_type": "code",
   "execution_count": 1,
   "id": "e0b3a0c4-0723-434f-9588-ee4e5c62dbd2",
   "metadata": {},
   "outputs": [
    {
     "name": "stdout",
     "output_type": "stream",
     "text": [
      "Hello World\n"
     ]
    }
   ],
   "source": [
    "print(\"Hello World\")"
   ]
  },
  {
   "cell_type": "code",
   "execution_count": 2,
   "id": "1b38de64-2365-4ce1-9497-3fc27c108800",
   "metadata": {},
   "outputs": [
    {
     "name": "stdout",
     "output_type": "stream",
     "text": [
      "wsp nigguz\n"
     ]
    }
   ],
   "source": [
    "print(\"wsp nigguz\")"
   ]
  },
  {
   "cell_type": "code",
   "execution_count": 7,
   "id": "43ef1809-082b-49ac-a875-c44653b51d88",
   "metadata": {},
   "outputs": [
    {
     "name": "stdout",
     "output_type": "stream",
     "text": [
      "5\n",
      "-1\n",
      "6\n",
      "0.6666666666666666\n",
      "2\n"
     ]
    }
   ],
   "source": [
    "a=2\n",
    "b=3\n",
    "c=a+b\n",
    "d=a-b\n",
    "e=a*b\n",
    "f=a/b\n",
    "g=a%b\n",
    "print(c)\n",
    "print(d)\n",
    "print(e)\n",
    "print(f)\n",
    "print(g)"
   ]
  },
  {
   "cell_type": "code",
   "execution_count": 8,
   "id": "b0909f63-9937-408b-b25f-29d4b0dda50c",
   "metadata": {},
   "outputs": [
    {
     "name": "stdout",
     "output_type": "stream",
     "text": [
      "1088\n"
     ]
    }
   ],
   "source": [
    "p=34\n",
    "r=32\n",
    "s=p*r\n",
    "print(s)"
   ]
  },
  {
   "cell_type": "code",
   "execution_count": 11,
   "id": "658f61c6-4bd7-4fa7-87fa-42ee4f58b360",
   "metadata": {},
   "outputs": [
    {
     "name": "stdout",
     "output_type": "stream",
     "text": [
      "3.0 is the Quotient\n"
     ]
    }
   ],
   "source": [
    "x=333333333333\n",
    "y=111111111111\n",
    "z=x/y\n",
    "print(z,\"is the Quotient\")"
   ]
  },
  {
   "cell_type": "code",
   "execution_count": 13,
   "id": "82ff5a44-3702-4875-9484-e97757458b52",
   "metadata": {},
   "outputs": [
    {
     "name": "stdout",
     "output_type": "stream",
     "text": [
      "12 is the Remainder 12 lol\n"
     ]
    }
   ],
   "source": [
    "v=456\n",
    "w=111\n",
    "rem=v%w\n",
    "print(rem,\"is the Remainder\",rem,\"lol\")"
   ]
  },
  {
   "cell_type": "code",
   "execution_count": 15,
   "id": "c21204f2-0a2f-4ee4-ba25-21ac83c0899f",
   "metadata": {},
   "outputs": [
    {
     "name": "stdout",
     "output_type": "stream",
     "text": [
      "My name is Tanishq\n",
      "My branch is CSM\n",
      "My age is 18\n",
      "<class 'int'>\n"
     ]
    }
   ],
   "source": [
    "name='Tanishq'\n",
    "branch='CSM'\n",
    "age=18\n",
    "print('My name is',name)\n",
    "print('My branch is',branch)\n",
    "print('My age is',age)\n",
    "print(type(age))"
   ]
  },
  {
   "cell_type": "code",
   "execution_count": null,
   "id": "af7d9f20-c187-4c5f-a676-03d222ab55b8",
   "metadata": {},
   "outputs": [],
   "source": []
  }
 ],
 "metadata": {
  "kernelspec": {
   "display_name": "Python 3 (ipykernel)",
   "language": "python",
   "name": "python3"
  },
  "language_info": {
   "codemirror_mode": {
    "name": "ipython",
    "version": 3
   },
   "file_extension": ".py",
   "mimetype": "text/x-python",
   "name": "python",
   "nbconvert_exporter": "python",
   "pygments_lexer": "ipython3",
   "version": "3.13.5"
  }
 },
 "nbformat": 4,
 "nbformat_minor": 5
}
