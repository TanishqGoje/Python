{
 "cells": [
  {
   "cell_type": "markdown",
   "id": "715f36ac",
   "metadata": {},
   "source": [
    "**Sets**"
   ]
  },
  {
   "cell_type": "code",
   "execution_count": 1,
   "id": "06d0b5c2",
   "metadata": {},
   "outputs": [
    {
     "name": "stdout",
     "output_type": "stream",
     "text": [
      "set()\n",
      "<class 'set'>\n",
      "{9, 'Python', 'Tanishq', 6}\n",
      "{6, 9, 10, 'Python', 'Tanishq'}\n",
      "{9, 10, 'Python', 'Tanishq'}\n"
     ]
    }
   ],
   "source": [
    "#Create empty set\n",
    "set1 = set()\n",
    "print(set1)\n",
    "print(type(set1)) #check the type of set1\n",
    "\n",
    "set2 = {'Tanishq', 6, 9, 'Python'} #curly braces can be used to create a set\n",
    "print(set2) #the elements are not ordered in the output beacuse set is unordered collection\n",
    "\n",
    "set2.add(10) #add an element to the set\n",
    "print(set2)\n",
    "\n",
    "set2.remove(6) #remove an element from the set\n",
    "print(set2)\n"
   ]
  },
  {
   "cell_type": "markdown",
   "id": "88b466c3",
   "metadata": {},
   "source": [
    "**Operators**\n",
    "\n",
    "The operator can be defined as a symbol which is two operands\n",
    "\n",
    "-> Arithmetic Operators\n",
    "\n",
    "-> Comparison Operators\n",
    "\n",
    "-> Assignment Operators\n",
    "\n",
    "-> Logical Operators\n",
    "\n",
    "-> Bitwise Operators\n",
    "\n",
    "-> Membership Operators\n",
    "\n",
    "-> Identity Operators"
   ]
  },
  {
   "cell_type": "code",
   "execution_count": 2,
   "id": "58271587",
   "metadata": {},
   "outputs": [
    {
     "name": "stdout",
     "output_type": "stream",
     "text": [
      "18\n",
      "8\n",
      "65\n",
      "2.6\n",
      "2\n",
      "3\n",
      "371293\n",
      "16\n"
     ]
    }
   ],
   "source": [
    "# Arithmetic Operators\n",
    "# +, -, *, /, //, %, **\n",
    "a = 13\n",
    "b = 5\n",
    "print(a + b)  # Addition\n",
    "print(a - b)  # Subtraction\n",
    "print(a * b)  # Multiplication\n",
    "print(a / b)  # Division\n",
    "print(a // b) # Floor Division\n",
    "print(a % b)  # Modulus\n",
    "print(a ** b) # Exponentiation\n",
    "c = (1 + 2) * 3 ** 2 // 2 + 3\n",
    "print(c)  # "
   ]
  },
  {
   "cell_type": "code",
   "execution_count": 3,
   "id": "c6f13eb2",
   "metadata": {},
   "outputs": [
    {
     "name": "stdout",
     "output_type": "stream",
     "text": [
      "True\n",
      "False\n",
      "True\n",
      "False\n",
      "False\n",
      "True\n"
     ]
    }
   ],
   "source": [
    "# Comparison Operators\n",
    "# ==, !=, >, <, >=, <=\n",
    "a = 10\n",
    "b = 5\n",
    "print(a > b)    # Greater than\n",
    "print(a < b)    # Less than\n",
    "print(a >= b)   # Greater than or equal to\n",
    "print(a <= b)   # Less than or equal to\n",
    "print(a == b)   # Equal to\n",
    "print(a != b)   # Not equal to"
   ]
  },
  {
   "cell_type": "code",
   "execution_count": 4,
   "id": "6d545bd7",
   "metadata": {},
   "outputs": [
    {
     "name": "stdout",
     "output_type": "stream",
     "text": [
      "30\n",
      "50\n",
      "30\n",
      "600\n",
      "30.0\n",
      "10.0\n",
      "10000000000.0\n",
      "1000000000.0\n"
     ]
    }
   ],
   "source": [
    "# Assignment Operators\n",
    "# =, +=, -=, *=, /=, //=, %=, **=\n",
    "x, y, z = 20, 10, 5\n",
    "z = x + y\n",
    "print(z)\n",
    "z += x\n",
    "print(z)\n",
    "z -= x\n",
    "print(z)\n",
    "z *= x\n",
    "print(z)\n",
    "z /= x\n",
    "print(z)\n",
    "z %= x\n",
    "print(z)\n",
    "z **= y\n",
    "print(z)\n",
    "z //= y\n",
    "print(z)\n"
   ]
  },
  {
   "cell_type": "code",
   "execution_count": 5,
   "id": "073dc063",
   "metadata": {},
   "outputs": [
    {
     "name": "stdout",
     "output_type": "stream",
     "text": [
      "0\n",
      "1\n",
      "False\n"
     ]
    }
   ],
   "source": [
    "# Logical Operators\n",
    "# and, or, not\n",
    "x = 1\n",
    "y = 0\n",
    "print(x and y)\n",
    "print(x or y)\n",
    "print(not x)"
   ]
  },
  {
   "cell_type": "markdown",
   "id": "c82d05ce",
   "metadata": {},
   "source": [
    "Write a python program to find maximum of three numbers"
   ]
  },
  {
   "cell_type": "code",
   "execution_count": 6,
   "id": "0e4efd4a",
   "metadata": {},
   "outputs": [
    {
     "name": "stdout",
     "output_type": "stream",
     "text": [
      "y is maximum\n"
     ]
    }
   ],
   "source": [
    "x, y, z = 1, 20, 3\n",
    "if x > y and x > z :# \"\"\n",
    "    print('x is maximum')\n",
    "elif y > x and y > z :\n",
    "    print('y is maximum')\n",
    "else :\n",
    "    print('z is maximum')"
   ]
  },
  {
   "cell_type": "code",
   "execution_count": 7,
   "id": "8785a4af",
   "metadata": {},
   "outputs": [
    {
     "name": "stdout",
     "output_type": "stream",
     "text": [
      "False\n",
      "True\n"
     ]
    }
   ],
   "source": [
    "# Membership Operators\n",
    "# in, not in\n",
    "list1 = [10, 20, 30, 40]\n",
    "x = int(input(5))\n",
    "print(x in list1)\n",
    "print(x not in list1)"
   ]
  },
  {
   "cell_type": "code",
   "execution_count": 8,
   "id": "4c27a789",
   "metadata": {},
   "outputs": [
    {
     "name": "stdout",
     "output_type": "stream",
     "text": [
      "True\n",
      "False\n",
      "True\n",
      "False\n",
      "2245086127920\n",
      "2245086127920\n",
      "True\n"
     ]
    }
   ],
   "source": [
    "# Identity Operators\n",
    "# is, is not\n",
    "# is checks if two variables point to the same object\n",
    "a = '96'\n",
    "b = '96'\n",
    "A = 96\n",
    "print(a is b)  # True, because both point to the same string object\n",
    "print(a is not b)  # False, because they are the same object\n",
    "print(A is not b)  # True, because A is an integer and b is a string\n",
    "print(A is b)  # False, because they are different types and not the same object\n",
    "print(id(a))  # Prints the memory address of the object a\n",
    "print(id(b))  # Prints the memory address of the object b\n",
    "print(id(a) == id(b))"
   ]
  },
  {
   "cell_type": "code",
   "execution_count": 9,
   "id": "1565e936",
   "metadata": {},
   "outputs": [
    {
     "name": "stdout",
     "output_type": "stream",
     "text": [
      "True\n",
      "False\n",
      "True\n",
      "False\n",
      "['Ramesh', ['Ramesh', 'Suresh'], 'Suresh']\n",
      "True\n"
     ]
    }
   ],
   "source": [
    "x = ['Ramesh', 'Suresh']\n",
    "z = x\n",
    "print(z is x)  # True, because z and x refer to the same list object in memory\n",
    "print( x is not z)\n",
    "print(x is x)\n",
    "print(z is not z)\n",
    "x = ['Ramesh', z, 'Suresh']\n",
    "print(x)\n",
    "print(z is x[1])  # True, because z is the second element of x\n"
   ]
  },
  {
   "cell_type": "markdown",
   "id": "0f96db18",
   "metadata": {},
   "source": [
    "**Bitwise Operators**\n",
    "\n",
    "The bitwise operators perform bit by bit operation on the values of the two operands"
   ]
  },
  {
   "cell_type": "code",
   "execution_count": 10,
   "id": "b6a53de9",
   "metadata": {},
   "outputs": [
    {
     "name": "stdout",
     "output_type": "stream",
     "text": [
      "6\n",
      "7\n",
      "1\n",
      "-8\n",
      "28\n",
      "1\n"
     ]
    }
   ],
   "source": [
    "# Bitwise Operators\n",
    "# &, |, ^, ~, <<, >>\n",
    "a = 7\n",
    "b = 6\n",
    "print(a & b)  # Bitwise AND\n",
    "print(a | b)  # Bitwise OR \n",
    "print(a ^ b)  # Bitwise XOR\n",
    "print(~a)     # Bitwise NOT\n",
    "print(a << 2)  # Left shift\n",
    "print(a >> 2)  # Right shift\n"
   ]
  },
  {
   "cell_type": "markdown",
   "id": "df1a13f6",
   "metadata": {},
   "source": [
    "**Operator Precedence**\n",
    "\n",
    "The precedence of the operators is essential to find out which operator should be evaluated first"
   ]
  },
  {
   "cell_type": "code",
   "execution_count": 11,
   "id": "f11e5c0c",
   "metadata": {},
   "outputs": [
    {
     "name": "stdout",
     "output_type": "stream",
     "text": [
      "22.625\n"
     ]
    }
   ],
   "source": [
    "a = 3 / 2 * 4 + 3 + (10 / 4) ** 3 - 2\n",
    "print(a)"
   ]
  },
  {
   "cell_type": "markdown",
   "id": "52a59b95",
   "metadata": {},
   "source": [
    "**Input and Output Statements**\n",
    "\n",
    "**Input from user:**\n",
    "\n",
    "-> Python input() function is used to get input from the user\n",
    "\n",
    "-> It prompts for the user input and reads a line"
   ]
  },
  {
   "cell_type": "code",
   "execution_count": 12,
   "id": "d834df25",
   "metadata": {},
   "outputs": [
    {
     "name": "stdout",
     "output_type": "stream",
     "text": [
      "sup Tanishq\n",
      "<class 'str'>\n"
     ]
    }
   ],
   "source": [
    "name = input('Enter your name:')\n",
    "print('sup ' + name)\n",
    "print(type(name))"
   ]
  },
  {
   "cell_type": "code",
   "execution_count": 13,
   "id": "233f73e9",
   "metadata": {},
   "outputs": [
    {
     "name": "stdout",
     "output_type": "stream",
     "text": [
      "sup 4\n",
      "<class 'int'>\n"
     ]
    }
   ],
   "source": [
    "# Prompt the user to enter their name, but incorrectly convert input to int (should be str for names)\n",
    "name = int(input('Enter your name:'))\n",
    "\n",
    "# Print a greeting using the entered name (will error if input is not a number)\n",
    "print(f\"{'sup'} {name}\")\n",
    "\n",
    "# Print the type of the variable 'name'\n",
    "print(type(name))"
   ]
  },
  {
   "cell_type": "code",
   "execution_count": 1,
   "id": "e0ed9656",
   "metadata": {},
   "outputs": [
    {
     "name": "stdout",
     "output_type": "stream",
     "text": [
      "6\n"
     ]
    }
   ],
   "source": [
    "num = int(input('Enter a number'))\n",
    "add = num + 1\n",
    "print(add)"
   ]
  },
  {
   "cell_type": "markdown",
   "id": "a571c16f",
   "metadata": {},
   "source": [
    "**Output Statements**"
   ]
  },
  {
   "cell_type": "code",
   "execution_count": null,
   "id": "2f1b3098",
   "metadata": {},
   "outputs": [
    {
     "name": "stdout",
     "output_type": "stream",
     "text": [
      "1 2 3 4\n",
      "1*2*3*4\n",
      "1#2#3#4&"
     ]
    }
   ],
   "source": [
    "print(1, 2, 3, 4)\n",
    "print(1, 2, 3, 4, sep = '*')\n",
    "print(1, 2, 3, 4, sep = '#', end = '&')"
   ]
  }
 ],
 "metadata": {
  "kernelspec": {
   "display_name": "base",
   "language": "python",
   "name": "python3"
  },
  "language_info": {
   "codemirror_mode": {
    "name": "ipython",
    "version": 3
   },
   "file_extension": ".py",
   "mimetype": "text/x-python",
   "name": "python",
   "nbconvert_exporter": "python",
   "pygments_lexer": "ipython3",
   "version": "3.13.5"
  }
 },
 "nbformat": 4,
 "nbformat_minor": 5
}
