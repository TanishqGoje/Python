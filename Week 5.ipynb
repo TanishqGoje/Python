{
 "cells": [
  {
   "cell_type": "markdown",
   "id": "5c55540a",
   "metadata": {},
   "source": [
    "Write a python program that defines a matrix and prints"
   ]
  },
  {
   "cell_type": "code",
   "execution_count": 1,
   "id": "763cb6ce",
   "metadata": {},
   "outputs": [
    {
     "name": "stdout",
     "output_type": "stream",
     "text": [
      "Enter the entries row wise: \n",
      "Matrix:  [[1, 2, 3, 4, 5], [6, 7, 8, 9, 11], [12, 13, 14, 15, 1], [6, 17, 118, 45, 96], [45, 65, 83, 38, 32]]\n"
     ]
    }
   ],
   "source": [
    "from numpy import *\n",
    "\n",
    "R = int(input(\"Enter the number of rows: \"))\n",
    "C = int(input(\"Enter the number of columns: \"))\n",
    "\n",
    "m_list = []\n",
    "print(\"Enter the entries row wise: \")\n",
    "\n",
    "for i in range(R):\n",
    "    a = []\n",
    "    for j in range(C):\n",
    "        a.append(int(input()))\n",
    "    m_list.append(a)\n",
    "x = reshape(matrix(m_list), (R, C))\n",
    "print(\"Matrix: \", m_list)"
   ]
  },
  {
   "cell_type": "code",
   "execution_count": null,
   "id": "2bb16b2e",
   "metadata": {},
   "outputs": [],
   "source": [
    "from numpy import *\n",
    "\n",
    "n = int(input(\"Enter the size of the square matrices (n x n): \"))\n",
    "\n",
    "print(\"Enter the elements of the first matrix row-wise:\")\n",
    "matrix1_list = []\n",
    "for i in range(n):\n",
    "    for j in range(n):\n",
    "        matrix1_list.append(int(input()))\n",
    "\n",
    "matrix1 = reshape(matrix(matrix1_list), (n, n))\n",
    "\n",
    "print(\"Enter the elements of the second matrix row-wise:\")\n",
    "matrix2_list = []\n",
    "for i in range(n):\n",
    "    for j in range(n):\n",
    "        matrix2_list.append(int(input()))\n",
    "\n",
    "matrix2 = reshape(matrix(matrix2_list), (n, n))\n",
    "\n",
    "print(\"First Matrix:\")\n",
    "print(matrix1)\n",
    "\n",
    "print(\"Second Matrix:\")\n",
    "print(matrix2)\n",
    "\n",
    "result_matrix = matrix1 + matrix2\n",
    "\n",
    "print(\"Sum of the two matrices:\")\n",
    "print(result_matrix)"
   ]
  },
  {
   "cell_type": "code",
   "execution_count": null,
   "id": "fd4c179f",
   "metadata": {},
   "outputs": [],
   "source": [
    "def multiply_matrices(matrix1, matrix2):\n",
    "    size = len(matrix1)\n",
    "    result = [[0 for _ in range(size)] for _ in range(size)]\n",
    "    for i in range(size):\n",
    "        for j in range(size):\n",
    "            for k in range(size):\n",
    "                result[i][j] += matrix1[i][k] * matrix2[k][j]\n",
    "    return result\n",
    "\n",
    "\n",
    "def print_matrix(matrix):\n",
    "    for row in matrix:\n",
    "        print(\" \".join(str(x) for x in row))\n",
    "\n",
    "\n",
    "matrix1 = [[1, 2, 3], [4, 5, 6], [7, 8, 9]]\n",
    "matrix2 = [[9, 8, 7], [6, 5, 4], [3, 2, 1]]\n",
    "\n",
    "result = multiply_matrices(matrix1, matrix2)\n",
    "\n",
    "print(\"Result of matrix multiplication:\")\n",
    "print_matrix(result)"
   ]
  },
  {
   "cell_type": "markdown",
   "id": "03a69bd5",
   "metadata": {},
   "source": [
    "To perform multiplication of two square matrices"
   ]
  },
  {
   "cell_type": "code",
   "execution_count": null,
   "id": "c41ddb08",
   "metadata": {},
   "outputs": [
    {
     "ename": "TypeError",
     "evalue": "'builtin_function_or_method' object is not iterable",
     "output_type": "error",
     "traceback": [
      "\u001b[1;31m---------------------------------------------------------------------------\u001b[0m",
      "\u001b[1;31mTypeError\u001b[0m                                 Traceback (most recent call last)",
      "Cell \u001b[1;32mIn[6], line 4\u001b[0m\n\u001b[0;32m      1\u001b[0m \u001b[38;5;28;01mimport\u001b[39;00m\u001b[38;5;250m \u001b[39m\u001b[38;5;21;01msys\u001b[39;00m\n\u001b[0;32m      2\u001b[0m \u001b[38;5;28;01mfrom\u001b[39;00m\u001b[38;5;250m \u001b[39m\u001b[38;5;21;01mnumpy\u001b[39;00m\u001b[38;5;250m \u001b[39m\u001b[38;5;28;01mimport\u001b[39;00m \u001b[38;5;241m*\u001b[39m\n\u001b[1;32m----> 4\u001b[0m r1, c1 \u001b[38;5;241m=\u001b[39m [\u001b[38;5;28mint\u001b[39m(a) \u001b[38;5;28;01mfor\u001b[39;00m a \u001b[38;5;129;01min\u001b[39;00m \u001b[38;5;28minput\u001b[39m(\u001b[38;5;124m\"\u001b[39m\u001b[38;5;124mFirst matrix rows, cols: \u001b[39m\u001b[38;5;124m\"\u001b[39m)\u001b[38;5;241m.\u001b[39msplit]\n\u001b[0;32m      5\u001b[0m r2, c2 \u001b[38;5;241m=\u001b[39m [\u001b[38;5;28mint\u001b[39m(a) \u001b[38;5;28;01mfor\u001b[39;00m a \u001b[38;5;129;01min\u001b[39;00m \u001b[38;5;28minput\u001b[39m(\u001b[38;5;124m\"\u001b[39m\u001b[38;5;124mSecond matrix rows, cols: \u001b[39m\u001b[38;5;124m\"\u001b[39m)\u001b[38;5;241m.\u001b[39msplit]\n\u001b[0;32m      6\u001b[0m \u001b[38;5;28;01mif\u001b[39;00m c1 \u001b[38;5;241m!=\u001b[39m r2:\n",
      "\u001b[1;31mTypeError\u001b[0m: 'builtin_function_or_method' object is not iterable"
     ]
    }
   ],
   "source": [
    "import sys\n",
    "from numpy import *\n",
    "\n",
    "r1, c1 = [int(a) for a in input(\"First matrix rows, cols: \").split()]\n",
    "r2, c2 = [int(a) for a in input(\"Second matrix rows, cols: \").split()]\n",
    "if c1 != r2:\n",
    "    print(\"Multiplication is not possible\")\n",
    "    sys.exit()\n",
    "\n",
    "m_list1 = []\n",
    "print(\"Enter the entries row wise:\")\n",
    "\n",
    "for i in range(r1):\n",
    "    for j in range(c1):\n",
    "        m_list1.append(int(input()))\n",
    "        matrix1 = reshape(matrix(m_list1), (r1, c1))\n",
    "print(\"The First Matrix is :\")\n",
    "print(matrix1)\n",
    "\n",
    "m_list2 = []\n",
    "print(\"Enter the entries row wise:\")\n",
    "\n",
    "for i in range(r2):\n",
    "\n",
    "    for j in range(c2):\n",
    "\n",
    "        m_list2.append(int(input()))\n",
    "        matrix2 = reshape(matrix(m_list2), (r2, c2))\n",
    "print(\"The Second Matrix is :\")\n",
    "print(matrix2)\n",
    "\n",
    "print(\"The Multiplication of Two matrix:\")\n",
    "mul_matrix = matrix1 * matrix2\n",
    "print(mul_matrix)"
   ]
  },
  {
   "cell_type": "markdown",
   "id": "dddb3823",
   "metadata": {},
   "source": [
    "How do you make a module? Give an example of construction of a geometrical shapes and operations on them as its functions."
   ]
  },
  {
   "cell_type": "code",
   "execution_count": null,
   "id": "4bc465fc",
   "metadata": {},
   "outputs": [],
   "source": [
    "def geometrical_shapes(name):\n",
    "    name = name.lower()\n",
    "    if name == \"rectangle\":\n",
    "        l = int(input(\"Enter rectangle's length: \"))\n",
    "        b = int(input(\"Enter rectangle's breadth: \"))\n",
    "        rect_area = l * b\n",
    "        print(\"The area of rectangle is. \", rect_area)\n",
    "\n",
    "    elif name == \"square\":\n",
    "        s = int(input(\"Enter square's side length: \"))\n",
    "        sqt_area = s * s\n",
    "        print(\"The area of square is.\", sqt_area)\n",
    "\n",
    "    elif name == \"triangle\":\n",
    "        h = int(input(\"Enter triangle's height length: \"))\n",
    "        b = int(input(\"Enter triangle's breadth length: \"))\n",
    "        tri_area = 0.5 * b * h\n",
    "        print(\"The area of triangle is \", tri_area)\n",
    "\n",
    "    elif name == \"circle\":\n",
    "        r = int(input(\"Enter circle's radius length: \"))\n",
    "        pi = 3.14\n",
    "        circ_area = pi * r * r\n",
    "        print(f\"The area of circle is.\", circ_area)\n",
    "\n",
    "    elif name == \"parallelogram\":\n",
    "        b = int(input(\"Enter parallelogram's base length: \"))\n",
    "        h = int(input(\"Enter parallelogram's height length: \"))\n",
    "        para_area = b * h\n",
    "        print(\"The area of parallelogram is.\", para_area)\n",
    "\n",
    "    else:\n",
    "        print(\"Sorry! This shape is not available\")"
   ]
  },
  {
   "cell_type": "markdown",
   "id": "4734070d",
   "metadata": {},
   "source": [
    "Use the structure of exception handling all general purpose execution"
   ]
  },
  {
   "cell_type": "code",
   "execution_count": 1,
   "id": "a856c52f",
   "metadata": {},
   "outputs": [
    {
     "name": "stdout",
     "output_type": "stream",
     "text": [
      "4.0 * 1808.0 = 7232.0\n"
     ]
    }
   ],
   "source": [
    "from operator import mul, truediv \n",
    "def calculate(operator, operand1, operand2):\n",
    "    return operator(operand1, operand2) \n",
    "try:\n",
    "    first = float(input(\"What is your first number? \"))\n",
    "    second = float(input(\"What is your second number? \"))\n",
    "    operation = input(\"Enter either * or /: \")\n",
    "    if operation == \"*\":\n",
    "        answer = calculate(mul, first, second)\n",
    "    elif operation == \"/\":\n",
    "        answer = calculate(truediv, first, second)\n",
    "    else:\n",
    "        raise RuntimeError(f\"'{operation}' is an unsupported operation\")\n",
    "except (RuntimeError, ValueError, ZeroDivisionError) as error:\n",
    "    print(f\"A {type(error).__name__} has occurred\")\n",
    "    match error:\n",
    "        case RuntimeError():\n",
    "            print(f\"You have entered an invalid symbol: {error}\")\n",
    "        case ValueError():\n",
    "            print(f\"You have not entered a number: {error}\")\n",
    "        case ZeroDivisionError():\n",
    "            print(f\"You can't divide by zero: {error}\") \n",
    "else:\n",
    "    print(f\"{first} {operation} {second} = {answer}\")"
   ]
  },
  {
   "cell_type": "markdown",
   "id": "f6ea54ea",
   "metadata": {},
   "source": [
    "A module using different geometrical shapes and operations on the rectangle"
   ]
  },
  {
   "cell_type": "code",
   "execution_count": null,
   "id": "fb5a5d19",
   "metadata": {},
   "outputs": [
    {
     "name": "stdout",
     "output_type": "stream",
     "text": [
      "Calculate Shape Area\n",
      "The area of circle is. 78.5\n"
     ]
    }
   ],
   "source": [
    "def geometrical_shapes(name):\n",
    "    name = name.lower()\n",
    "    if name == \"rectangle\":\n",
    "        l = int(input(\"Enter rectangle's length: \"))\n",
    "        b = int(input(\"Enter rectangle's breadth: \"))\n",
    "        rect_area = l * b\n",
    "        print(\"The area of rectangle is \", rect_area)\n",
    "    elif name == \"square\":\n",
    "        s = int(input(\"Enter square's side length: \"))\n",
    "        sqt_area = s * s\n",
    "        print(\"The area of square is \", sqt_area)\n",
    "    elif name == \"triangle\":\n",
    "        h = int(input(\"Enter triangle's height length: \"))\n",
    "        b = int(input(\"Enter triangle's breadth length: \"))\n",
    "        tri_area = 0.5 * b * h\n",
    "        print(\"The area of triangle is \", tri_area)\n",
    "    elif name == \"circle\":\n",
    "        r = int(input(\"Enter circle's radius length: \"))\n",
    "        pi = 3.14\n",
    "        circ_area = pi * r * r\n",
    "        print(f\"The area of circle is \", circ_area)\n",
    "    elif name == \"parallelogram\":\n",
    "        b = int(input(\"Enter parallelogram's base: \"))\n",
    "        h = int(input(\"Enter parallelogram's height: \"))\n",
    "        para_area = b * h\n",
    "        print(\"The area of parallelogram is \", para_area)\n",
    "    else:\n",
    "        print(\"Sorry! This shape is not available\")\n",
    "\n",
    "\n",
    "if __name__ == \"__main__\":\n",
    "    print(\"Calculate Shape Area\")\n",
    "    shape_name = input(\"Enter the name of shape whose area you want\")\n",
    "\n",
    "    geometrical_shapes(shape_name)"
   ]
  }
 ],
 "metadata": {
  "kernelspec": {
   "display_name": "base",
   "language": "python",
   "name": "python3"
  },
  "language_info": {
   "codemirror_mode": {
    "name": "ipython",
    "version": 3
   },
   "file_extension": ".py",
   "mimetype": "text/x-python",
   "name": "python",
   "nbconvert_exporter": "python",
   "pygments_lexer": "ipython3",
   "version": "3.13.5"
  }
 },
 "nbformat": 4,
 "nbformat_minor": 5
}
